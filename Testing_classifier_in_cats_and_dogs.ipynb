{
  "nbformat": 4,
  "nbformat_minor": 0,
  "metadata": {
    "colab": {
      "name": "Testing classifier in cats and dogs.ipynb",
      "provenance": [],
      "collapsed_sections": [],
      "authorship_tag": "ABX9TyPvwZkYPD5FVi1JIkVBv7D+",
      "include_colab_link": true
    },
    "kernelspec": {
      "name": "python3",
      "display_name": "Python 3"
    }
  },
  "cells": [
    {
      "cell_type": "markdown",
      "metadata": {
        "id": "view-in-github",
        "colab_type": "text"
      },
      "source": [
        "<a href=\"https://colab.research.google.com/github/vit10load/machine-learning-python/blob/master/Testing_classifier_in_cats_and_dogs.ipynb\" target=\"_parent\"><img src=\"https://colab.research.google.com/assets/colab-badge.svg\" alt=\"Open In Colab\"/></a>"
      ]
    },
    {
      "cell_type": "code",
      "metadata": {
        "colab": {
          "base_uri": "https://localhost:8080/"
        },
        "id": "1gxbXC2iz9fL",
        "outputId": "4a6bc564-5371-4cba-f6ea-78748de751a3"
      },
      "source": [
        "import os;\n",
        "\n",
        "from google.colab import drive;\n",
        "#keras baseando-se no tensorflow\n",
        "from keras.models import Sequential\n",
        "#keras modelos em camadas\n",
        "from keras.layers import Conv2D,Activation,MaxPooling2D,Dense,Flatten,Dropout\n",
        "#biblioteca numpy para manipulação das informações\n",
        "import numpy as np\n",
        "import glob;\n",
        "\n",
        "\n",
        "\n",
        "drive.mount('/gdrive', force_remount=True);\n"
      ],
      "execution_count": 68,
      "outputs": [
        {
          "output_type": "stream",
          "text": [
            "Mounted at /gdrive\n"
          ],
          "name": "stdout"
        }
      ]
    },
    {
      "cell_type": "code",
      "metadata": {
        "colab": {
          "base_uri": "https://localhost:8080/"
        },
        "id": "l3rqwHWD2KaF",
        "outputId": "16dcf9a6-1500-4fde-8bfa-9299fb4cd2b5"
      },
      "source": [
        "path_train = '/gdrive/My Drive/PROJECTS/TRAIN/';\n",
        "path_test = '/gdrive/My Drive/PROJECTS/TEST/';\n",
        "image_dog_test = '/gdrive/My Drive/PROJECTS/CACHORRO-TESTE.jpg';\n",
        "\n",
        "file = open(image_dog_test);\n",
        "\n",
        "print(file);\n",
        "\n",
        "os.chdir(path_train);\n"
      ],
      "execution_count": 69,
      "outputs": [
        {
          "output_type": "stream",
          "text": [
            "<_io.TextIOWrapper name='/gdrive/My Drive/PROJECTS/CACHORRO-TESTE.jpg' mode='r' encoding='UTF-8'>\n"
          ],
          "name": "stdout"
        }
      ]
    },
    {
      "cell_type": "code",
      "metadata": {
        "id": "qCwikO2G3BlS"
      },
      "source": [
        "classifier = Sequential();"
      ],
      "execution_count": 70,
      "outputs": []
    },
    {
      "cell_type": "code",
      "metadata": {
        "colab": {
          "base_uri": "https://localhost:8080/"
        },
        "id": "mtn1iYFk3Yea",
        "outputId": "f6ac0445-7266-4b95-8707-266135eeb1af"
      },
      "source": [
        "classifier.add(Conv2D(32,(3,3),input_shape=(64,64,3)));\n",
        "classifier.add(Activation('relu'));\n",
        "classifier.add(MaxPooling2D(pool_size =(2,2)));\n",
        "classifier.add(Conv2D(32,(3,3)));\n",
        "classifier.add(Activation('relu'));\n",
        "classifier.add(MaxPooling2D(pool_size =(2,2)));\n",
        "classifier.add(Conv2D(32,(3,3))); \n",
        "classifier.add(Activation('relu'));\n",
        "classifier.add(MaxPooling2D(pool_size =(2,2)));\n",
        "classifier.add(Flatten());\n",
        "classifier.add(Dense(64));\n",
        "classifier.add(Activation('relu'));\n",
        "classifier.add(Dropout(0.5));\n",
        "classifier.add(Dense(1));\n",
        "classifier.add(Activation('sigmoid'));\n",
        "classifier.summary();"
      ],
      "execution_count": 71,
      "outputs": [
        {
          "output_type": "stream",
          "text": [
            "Model: \"sequential_4\"\n",
            "_________________________________________________________________\n",
            "Layer (type)                 Output Shape              Param #   \n",
            "=================================================================\n",
            "conv2d_10 (Conv2D)           (None, 62, 62, 32)        896       \n",
            "_________________________________________________________________\n",
            "activation_15 (Activation)   (None, 62, 62, 32)        0         \n",
            "_________________________________________________________________\n",
            "max_pooling2d_9 (MaxPooling2 (None, 31, 31, 32)        0         \n",
            "_________________________________________________________________\n",
            "conv2d_11 (Conv2D)           (None, 29, 29, 32)        9248      \n",
            "_________________________________________________________________\n",
            "activation_16 (Activation)   (None, 29, 29, 32)        0         \n",
            "_________________________________________________________________\n",
            "max_pooling2d_10 (MaxPooling (None, 14, 14, 32)        0         \n",
            "_________________________________________________________________\n",
            "conv2d_12 (Conv2D)           (None, 12, 12, 32)        9248      \n",
            "_________________________________________________________________\n",
            "activation_17 (Activation)   (None, 12, 12, 32)        0         \n",
            "_________________________________________________________________\n",
            "max_pooling2d_11 (MaxPooling (None, 6, 6, 32)          0         \n",
            "_________________________________________________________________\n",
            "flatten_3 (Flatten)          (None, 1152)              0         \n",
            "_________________________________________________________________\n",
            "dense_6 (Dense)              (None, 64)                73792     \n",
            "_________________________________________________________________\n",
            "activation_18 (Activation)   (None, 64)                0         \n",
            "_________________________________________________________________\n",
            "dropout_3 (Dropout)          (None, 64)                0         \n",
            "_________________________________________________________________\n",
            "dense_7 (Dense)              (None, 1)                 65        \n",
            "_________________________________________________________________\n",
            "activation_19 (Activation)   (None, 1)                 0         \n",
            "=================================================================\n",
            "Total params: 93,249\n",
            "Trainable params: 93,249\n",
            "Non-trainable params: 0\n",
            "_________________________________________________________________\n"
          ],
          "name": "stdout"
        }
      ]
    },
    {
      "cell_type": "code",
      "metadata": {
        "id": "XHHS7Mig33Hk"
      },
      "source": [
        "classifier.compile(optimizer ='rmsprop',loss ='binary_crossentropy',metrics =['accuracy']);"
      ],
      "execution_count": 72,
      "outputs": []
    },
    {
      "cell_type": "code",
      "metadata": {
        "id": "lz_elwa7c3Zz"
      },
      "source": [
        "from keras.preprocessing.image import ImageDataGenerator\n",
        "train_datagen = ImageDataGenerator(rescale =1./255,\n",
        "                                   shear_range =0.2,\n",
        "                                   zoom_range = 0.2,\n",
        "                                   horizontal_flip =True)\n",
        "test_datagen = ImageDataGenerator(rescale = 1./255)"
      ],
      "execution_count": 73,
      "outputs": []
    },
    {
      "cell_type": "code",
      "metadata": {
        "colab": {
          "base_uri": "https://localhost:8080/"
        },
        "id": "e_DjqjNFdFhF",
        "outputId": "292d393a-8e11-4d3b-8b34-c0e4d3575e81"
      },
      "source": [
        "training_set = train_datagen.flow_from_directory(path_train,\n",
        "                                                target_size=(64,64),\n",
        "                                                batch_size= 32,\n",
        "                                                class_mode='binary')\n",
        "\n",
        "test_set = test_datagen.flow_from_directory(path_test,\n",
        "                                           target_size = (64,64),\n",
        "                                           batch_size = 32,\n",
        "                                           class_mode ='binary')\n",
        "\n",
        "from IPython.display import display\n",
        "from PIL import Image\n",
        "classifier.fit_generator(training_set,\n",
        "                        steps_per_epoch =20,\n",
        "                        epochs = 600,\n",
        "                        validation_data =test_set,\n",
        "                        validation_steps = 100)"
      ],
      "execution_count": 74,
      "outputs": [
        {
          "output_type": "stream",
          "text": [
            "Found 8 images belonging to 2 classes.\n",
            "Found 8 images belonging to 2 classes.\n"
          ],
          "name": "stdout"
        },
        {
          "output_type": "stream",
          "text": [
            "/usr/local/lib/python3.7/dist-packages/tensorflow/python/keras/engine/training.py:1844: UserWarning: `Model.fit_generator` is deprecated and will be removed in a future version. Please use `Model.fit`, which supports generators.\n",
            "  warnings.warn('`Model.fit_generator` is deprecated and '\n"
          ],
          "name": "stderr"
        },
        {
          "output_type": "stream",
          "text": [
            "Epoch 1/600\n",
            " 1/20 [>.............................] - ETA: 17s - loss: 0.6869 - accuracy: 0.5000WARNING:tensorflow:Your input ran out of data; interrupting training. Make sure that your dataset or generator can generate at least `steps_per_epoch * epochs` batches (in this case, 12000 batches). You may need to use the repeat() function when building your dataset.\n",
            "WARNING:tensorflow:Your input ran out of data; interrupting training. Make sure that your dataset or generator can generate at least `steps_per_epoch * epochs` batches (in this case, 100 batches). You may need to use the repeat() function when building your dataset.\n",
            "20/20 [==============================] - 1s 26ms/step - loss: 0.6869 - accuracy: 0.5000 - val_loss: 0.6820 - val_accuracy: 0.5000\n"
          ],
          "name": "stdout"
        },
        {
          "output_type": "execute_result",
          "data": {
            "text/plain": [
              "<tensorflow.python.keras.callbacks.History at 0x7f16f71b86d0>"
            ]
          },
          "metadata": {
            "tags": []
          },
          "execution_count": 74
        }
      ]
    },
    {
      "cell_type": "code",
      "metadata": {
        "id": "-JeRtVq6ipGC"
      },
      "source": [
        "classifier.save('catdog_cnn_model.h5');"
      ],
      "execution_count": 75,
      "outputs": []
    },
    {
      "cell_type": "code",
      "metadata": {
        "id": "9ReUGnaqjDqZ"
      },
      "source": [
        "from keras.models import load_model \n",
        "classifier = load_model('catdog_cnn_model.h5');\n",
        "\n"
      ],
      "execution_count": 76,
      "outputs": []
    },
    {
      "cell_type": "code",
      "metadata": {
        "colab": {
          "base_uri": "https://localhost:8080/"
        },
        "id": "4iwB5gF4jDei",
        "outputId": "f414d740-156f-43ec-a810-bed5ed9e52b4"
      },
      "source": [
        "from keras.preprocessing import image\n",
        "test_image =image.load_img(image_dog_test,target_size =(64,64))\n",
        "test_image =image.img_to_array(test_image)\n",
        "test_image =np.expand_dims(test_image, axis =0)\n",
        "result = classifier.predict(test_image)\n",
        "\n",
        "print(result[0][0]);\n",
        "\n",
        "if result[0][0] >= 0.5:\n",
        "    prediction = 'dog'\n",
        "else:\n",
        "    prediction = 'cat'\n",
        "print(prediction)"
      ],
      "execution_count": 77,
      "outputs": [
        {
          "output_type": "stream",
          "text": [
            "1.0\n",
            "dog\n"
          ],
          "name": "stdout"
        }
      ]
    }
  ]
}