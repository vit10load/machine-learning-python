{
  "nbformat": 4,
  "nbformat_minor": 0,
  "metadata": {
    "colab": {
      "name": "Testing classifier in cats and dogs.ipynb",
      "provenance": [],
      "collapsed_sections": [],
      "authorship_tag": "ABX9TyP+/MBeniRNGkceY6iA44s/",
      "include_colab_link": true
    },
    "kernelspec": {
      "name": "python3",
      "display_name": "Python 3"
    }
  },
  "cells": [
    {
      "cell_type": "markdown",
      "metadata": {
        "id": "view-in-github",
        "colab_type": "text"
      },
      "source": [
        "<a href=\"https://colab.research.google.com/github/vit10load/machine-learning-python/blob/master/Testing_classifier_in_cats_and_dogs.ipynb\" target=\"_parent\"><img src=\"https://colab.research.google.com/assets/colab-badge.svg\" alt=\"Open In Colab\"/></a>"
      ]
    },
    {
      "cell_type": "code",
      "metadata": {
        "colab": {
          "base_uri": "https://localhost:8080/"
        },
        "id": "1gxbXC2iz9fL",
        "outputId": "d900efb9-beae-4d48-d713-f991aeb47566"
      },
      "source": [
        "import os;\n",
        "\n",
        "from google.colab import drive;\n",
        "\n",
        "drive.mount('/gdrive');\n"
      ],
      "execution_count": 2,
      "outputs": [
        {
          "output_type": "stream",
          "text": [
            "Mounted at /gdrive\n"
          ],
          "name": "stdout"
        }
      ]
    },
    {
      "cell_type": "code",
      "metadata": {
        "id": "l3rqwHWD2KaF"
      },
      "source": [
        "path = '/gdrive/My Drive/PROJECTS/TRAIN/DOGS';\n",
        "os.chdir(path);"
      ],
      "execution_count": 12,
      "outputs": []
    },
    {
      "cell_type": "code",
      "metadata": {
        "colab": {
          "base_uri": "https://localhost:8080/"
        },
        "id": "qCwikO2G3BlS",
        "outputId": "47f458b4-9885-4556-f347-a657a98ec603"
      },
      "source": [
        "!ls"
      ],
      "execution_count": 13,
      "outputs": [
        {
          "output_type": "stream",
          "text": [
            "cao-feliz-petlove.jpg\n",
            "golden-retriever-1.png\n",
            "retrato-de-cachorro-feliz-com-espaco-de-copia_23-2148366809.jpg\n",
            "unnamed.jpg\n"
          ],
          "name": "stdout"
        }
      ]
    },
    {
      "cell_type": "code",
      "metadata": {
        "id": "mtn1iYFk3Yea"
      },
      "source": [
        "with open(\"cao-feliz-petlove.jpg\",\"r\") as f:\n",
        "  conteudo = f;"
      ],
      "execution_count": 16,
      "outputs": []
    },
    {
      "cell_type": "code",
      "metadata": {
        "colab": {
          "base_uri": "https://localhost:8080/"
        },
        "id": "XHHS7Mig33Hk",
        "outputId": "aef56f06-1137-49d5-b471-23bd6fd8506f"
      },
      "source": [
        "print(conteudo)"
      ],
      "execution_count": 17,
      "outputs": [
        {
          "output_type": "stream",
          "text": [
            "<_io.TextIOWrapper name='cao-feliz-petlove.jpg' mode='r' encoding='UTF-8'>\n"
          ],
          "name": "stdout"
        }
      ]
    }
  ]
}