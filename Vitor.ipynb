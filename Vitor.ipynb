{
  "nbformat": 4,
  "nbformat_minor": 0,
  "metadata": {
    "colab": {
      "name": "Vitor.ipynb",
      "provenance": [],
      "authorship_tag": "ABX9TyMqQ1njYkEP4ZA12tMIBo0D",
      "include_colab_link": true
    },
    "kernelspec": {
      "name": "python3",
      "display_name": "Python 3"
    }
  },
  "cells": [
    {
      "cell_type": "markdown",
      "metadata": {
        "id": "view-in-github",
        "colab_type": "text"
      },
      "source": [
        "<a href=\"https://colab.research.google.com/github/vit10load/machine-learning-python/blob/master/Vitor.ipynb\" target=\"_parent\"><img src=\"https://colab.research.google.com/assets/colab-badge.svg\" alt=\"Open In Colab\"/></a>"
      ]
    },
    {
      "cell_type": "markdown",
      "metadata": {
        "id": "4WAQTv4NVO6K"
      },
      "source": [
        "\n",
        "\n",
        "# Exercício 1\n",
        "\n",
        "2.   **Complete** o processamento do código abaixo com a fórmula correta para o delta da equação do segundo grau, na forma $ax^{2}+bx+c=0$. **Dados**: a operação 'elevado' em Python é `**`. **Resposta correta**: delta = 49\n",
        "\n"
      ]
    },
    {
      "cell_type": "code",
      "metadata": {
        "id": "BZxe7tuGVMwU",
        "outputId": "b0ff66ee-ef88-4d2d-f5c4-c4210ccec124",
        "colab": {
          "base_uri": "https://localhost:8080/",
          "height": 33
        }
      },
      "source": [
        "# Exercício 1\n",
        "# entrada\n",
        "a = 2\n",
        "b = 3\n",
        "c = -5\n",
        "# processamento (complete aqui)\n",
        "delta = (b**2 - 4 * a * c)\n",
        "# saída (teste, não altere)\n",
        "delta"
      ],
      "execution_count": 1,
      "outputs": [
        {
          "output_type": "execute_result",
          "data": {
            "text/plain": [
              "49"
            ]
          },
          "metadata": {
            "tags": []
          },
          "execution_count": 1
        }
      ]
    },
    {
      "cell_type": "code",
      "metadata": {
        "id": "oDQvA2eOXAy2"
      },
      "source": [
        ""
      ],
      "execution_count": null,
      "outputs": []
    },
    {
      "cell_type": "markdown",
      "metadata": {
        "id": "8nON0dvgXBZO"
      },
      "source": [
        ""
      ]
    },
    {
      "cell_type": "markdown",
      "metadata": {
        "id": "5pANSoMTXkJW"
      },
      "source": [
        "# Exercício 2\n",
        "\n",
        "3.   **Complete o código anterior** no campo abaixo (<u>não é necessário digitar novamente</u>) com comandos para calcular e exibir as raízes da equação do segundo grau, usando a fórmula $raiz_n=\\frac{-b\\pm\\sqrt{\\Delta}}{2a}$. **Dados**: raiz de um número = número\\*\\*.5 (elevado a meio). **Respostas**: `(-2.5, 1.0)`."
      ]
    },
    {
      "cell_type": "code",
      "metadata": {
        "id": "d2dn8cglXskO",
        "outputId": "9d803a68-7bc6-4450-815e-243c25531bc2",
        "colab": {
          "base_uri": "https://localhost:8080/",
          "height": 50
        }
      },
      "source": [
        "# processamento (complete)\n",
        "a = 2\n",
        "b = 3\n",
        "c = -5\n",
        "# processamento (complete aqui)\n",
        "delta = (b**2 - 4 * a * c)\n",
        "# saída (teste, não altere)\n",
        "\n",
        "# teste (Não altere)\n",
        "r1 = (-b + (delta**0.5))\n",
        "r1 /= 2*a\n",
        "r2 = (-b - (delta**0.5))\n",
        "r2 /= 2*a\n",
        "\n",
        "print(r1)\n",
        "print(r2)\n"
      ],
      "execution_count": 8,
      "outputs": [
        {
          "output_type": "stream",
          "text": [
            "1.0\n",
            "-2.5\n"
          ],
          "name": "stdout"
        }
      ]
    },
    {
      "cell_type": "code",
      "metadata": {
        "id": "VDOsx3cGjnOJ"
      },
      "source": [
        ""
      ],
      "execution_count": null,
      "outputs": []
    },
    {
      "cell_type": "markdown",
      "metadata": {
        "id": "NVQP4E6zawHH"
      },
      "source": [
        "# Exercício 3\n",
        "Na célula abaixo, represente a seguinte expressão em código e obtenha seu resultado: \n",
        "$$ \\frac{3+(3\\times5)}{2\\times(2+3)} $$"
      ]
    },
    {
      "cell_type": "markdown",
      "metadata": {
        "id": "TtulnPBtjmlK"
      },
      "source": [
        ""
      ]
    },
    {
      "cell_type": "code",
      "metadata": {
        "id": "6t7f2P91a0h2",
        "outputId": "1457a6ae-d886-4c27-b572-ea3f1df318f5",
        "colab": {
          "base_uri": "https://localhost:8080/",
          "height": 33
        }
      },
      "source": [
        "expression = (3+(3*5))/(2*(2+3))\n",
        "expression"
      ],
      "execution_count": 9,
      "outputs": [
        {
          "output_type": "execute_result",
          "data": {
            "text/plain": [
              "1.8"
            ]
          },
          "metadata": {
            "tags": []
          },
          "execution_count": 9
        }
      ]
    },
    {
      "cell_type": "markdown",
      "metadata": {
        "id": "7iJ49nz2bZBY"
      },
      "source": [
        "# Exercício 4\n",
        "Quando lidamos com expressões grandes e complexas pode ser interessante quebrá-las em várias sub-expressões. Veja o seguinte:\n",
        "\n",
        "$$ 2 \\bigg[ \\frac{3\\times(2+5)-20}{3} \\bigg]^2 + \\sqrt 2 + 1  $$\n",
        "\n",
        "Para facilitar a codificação desta expressão, vamos escrevê-la nas seguintes etapas:\n",
        "\n",
        "1. Atribua o resultado de $\\frac{3\\times(2+5)-20}{3}$ a uma variável de nome `a`.\n",
        "2. Atribua o resultado de $\\sqrt{2}+1$ a uma variável de nome `b`. Lembrando que $\\sqrt{2} = 2^{\\frac{1}{2}}$\n",
        "3. Agora, compute o resultado da expressão inteira usando as variáveis que você acabou de criar. $2a^2 + b$ e atribua o resultado a uma variável de nome `c`.\n",
        "4. Por fim, imprima no console o valor da variável `c`.\n"
      ]
    },
    {
      "cell_type": "code",
      "metadata": {
        "id": "BtCeT-d0bp3G",
        "outputId": "d63894ee-611c-4f0d-c66c-3c2bee4da6e6",
        "colab": {
          "base_uri": "https://localhost:8080/",
          "height": 33
        }
      },
      "source": [
        "a = (3*(2+5)-20)/3\n",
        "b = (2**0.5)+1\n",
        "c = (2 * (a**2) + b)\n",
        "\n",
        "print(c)"
      ],
      "execution_count": 10,
      "outputs": [
        {
          "output_type": "stream",
          "text": [
            "2.6364357845953172\n"
          ],
          "name": "stdout"
        }
      ]
    },
    {
      "cell_type": "markdown",
      "metadata": {
        "id": "10L2tL6IcvC5"
      },
      "source": [
        "# Exercício 5\n",
        "Associe o resultado da expressão $2(10+1) + \\frac{8}{3+1}$ a uma variável de nome `a`. \n",
        "Em seguida, associe à mesma variável o valor $5$ e imprima seu valor no console, usando a função `print`.\n",
        "Qual valor será mostrado? E se você quisesse imprimir o resultado do primeiro valor que a variável recebeu? \n"
      ]
    },
    {
      "cell_type": "code",
      "metadata": {
        "id": "53AhPmwMc1xG",
        "outputId": "84ec4654-b699-47dd-d065-db43e6546d14",
        "colab": {
          "base_uri": "https://localhost:8080/",
          "height": 50
        }
      },
      "source": [
        "a = 2*(10 + 1) + (8/(3+1))\n",
        "print(a)\n",
        "a = 5\n",
        "## sera mostrado o valor de numero 5 pela associaçao ao valor passado a variavel por cópia de valor\n",
        "## para que seja possivel o usuário ver o calculo anteriormente usa-se o print para imprimir o valor da primeira expressão antes de atribuir o valor 5.\n",
        "print(a)"
      ],
      "execution_count": 14,
      "outputs": [
        {
          "output_type": "stream",
          "text": [
            "24.0\n",
            "5\n"
          ],
          "name": "stdout"
        }
      ]
    },
    {
      "cell_type": "markdown",
      "metadata": {
        "id": "6kRa5IqOjplc"
      },
      "source": [
        "# Exercício 01\n",
        "Faça um Programa que mostre a mensagem \"Alo mundo\" na tela. "
      ]
    },
    {
      "cell_type": "code",
      "metadata": {
        "id": "axnLGIpJjrWS",
        "outputId": "ad4781d7-1d93-4dac-b455-0f74f43f7c56",
        "colab": {
          "base_uri": "https://localhost:8080/",
          "height": 33
        }
      },
      "source": [
        "print(\"Ola mundo\")"
      ],
      "execution_count": 15,
      "outputs": [
        {
          "output_type": "stream",
          "text": [
            "Ola mundo\n"
          ],
          "name": "stdout"
        }
      ]
    },
    {
      "cell_type": "markdown",
      "metadata": {
        "id": "LqiqsnqEj1Yc"
      },
      "source": [
        "# Exercício 02\n",
        "Faça um Programa que peça um número e então mostre a mensagem O número informado foi [número].\n"
      ]
    },
    {
      "cell_type": "code",
      "metadata": {
        "id": "qE0AQnizj3-2",
        "outputId": "093598ba-4fd1-4552-88e2-53e1e52a6520",
        "colab": {
          "base_uri": "https://localhost:8080/",
          "height": 50
        }
      },
      "source": [
        "\n",
        "numero = input(\"Informe o numero: \")\n",
        "print(\"O numero informado foi o \", numero)\n"
      ],
      "execution_count": 19,
      "outputs": [
        {
          "output_type": "stream",
          "text": [
            "Informe o numero: 3\n",
            "O numero informado foi o  3\n"
          ],
          "name": "stdout"
        }
      ]
    },
    {
      "cell_type": "markdown",
      "metadata": {
        "id": "b6XCPSQOki6-"
      },
      "source": [
        "# Exercício 03\n",
        "Faça um Programa que peça dois números e imprima a soma. \n"
      ]
    },
    {
      "cell_type": "code",
      "metadata": {
        "id": "tHxMr4Qgkmoo",
        "outputId": "7636138e-b06c-4d8a-a915-5938ea509ece",
        "colab": {
          "base_uri": "https://localhost:8080/",
          "height": 67
        }
      },
      "source": [
        "numero1 = input(\"Informe o numero 1: \")\n",
        "numero2 = input(\"Informe o numero 2: \")\n",
        "soma = (float(numero1) + float(numero2))\n",
        "print(soma)"
      ],
      "execution_count": 21,
      "outputs": [
        {
          "output_type": "stream",
          "text": [
            "Informe o numero 1: 2\n",
            "Informe o numero 2: 2\n",
            "4.0\n"
          ],
          "name": "stdout"
        }
      ]
    },
    {
      "cell_type": "markdown",
      "metadata": {
        "id": "I3Gj4Q7HlQTC"
      },
      "source": [
        "# Exercício 04\n",
        "Faça um Programa que peça as 4 notas bimestrais e mostre a média. \n"
      ]
    },
    {
      "cell_type": "code",
      "metadata": {
        "id": "WFCKOd3QlSBp",
        "outputId": "465c7442-165e-48e1-aac6-5826bcb4040c",
        "colab": {
          "base_uri": "https://localhost:8080/",
          "height": 100
        }
      },
      "source": [
        "n1 = input(\"Informe a primeira nota: \")\n",
        "n2 = input(\"Informe a segunda nota: \")\n",
        "n3 = input(\"Informe a terceira nota: \")\n",
        "n4 = input(\"Informe a quarta nota: \")\n",
        "\n",
        "media = (float(n1) + float(n2) + float(n3) + float(n4) )/4\n",
        "\n",
        "print(media)"
      ],
      "execution_count": 23,
      "outputs": [
        {
          "output_type": "stream",
          "text": [
            "Informe a primeira nota: 10\n",
            "Informe a segunda nota: 10\n",
            "Informe a terceira nota: 10\n",
            "Informe a quarta nota: 10\n",
            "10.0\n"
          ],
          "name": "stdout"
        }
      ]
    },
    {
      "cell_type": "markdown",
      "metadata": {
        "id": "ZwU3eaThl5vM"
      },
      "source": [
        "# Exercício 05\n",
        "Faça um Programa que converta metros para centímetros. \n"
      ]
    },
    {
      "cell_type": "code",
      "metadata": {
        "id": "6WbZOlUdl7N9",
        "outputId": "b86811f3-7dd8-451f-a666-2cac71c9cef3",
        "colab": {
          "base_uri": "https://localhost:8080/",
          "height": 50
        }
      },
      "source": [
        "metro = input(\"Informe o metro: \")\n",
        "centimetro = (float(metro) * 100)\n",
        "print(\"{} cm\".format(centimetro))"
      ],
      "execution_count": 24,
      "outputs": [
        {
          "output_type": "stream",
          "text": [
            "Informe o metro: 2\n",
            "200.0 cm\n"
          ],
          "name": "stdout"
        }
      ]
    },
    {
      "cell_type": "markdown",
      "metadata": {
        "id": "lEtgpX0pnI4X"
      },
      "source": [
        "# Exercício 06\n",
        "Faça um Programa que peça a temperatura em graus Fahrenheit, transforme e mostre a temperatura em graus Celsius.\n",
        "\n",
        "    C = 5 * ((F-32) / 9)."
      ]
    },
    {
      "cell_type": "code",
      "metadata": {
        "id": "gal5VhOknKPQ",
        "outputId": "eea4b667-2f5f-4cb3-e513-fd153f51452d",
        "colab": {
          "base_uri": "https://localhost:8080/",
          "height": 50
        }
      },
      "source": [
        "f = input(\"Informe a temperatura em Fahrenheit: \")\n",
        "c = 5 * ((float(f)-32)/9)\n",
        "print(\"{} °C\".format(c))\n"
      ],
      "execution_count": 30,
      "outputs": [
        {
          "output_type": "stream",
          "text": [
            "Informe a temperatura em Fahrenheit: 200\n",
            "93.33333333333334 °C\n"
          ],
          "name": "stdout"
        }
      ]
    },
    {
      "cell_type": "code",
      "metadata": {
        "id": "m_1pPKoKoEac"
      },
      "source": [
        ""
      ],
      "execution_count": null,
      "outputs": []
    },
    {
      "cell_type": "markdown",
      "metadata": {
        "id": "47FU8AwPoC1A"
      },
      "source": [
        "# Exercício 07\n",
        "Tendo como dado de entrada a altura (h) de uma pessoa, construa um algoritmo que calcule seu peso ideal, utilizando as seguintes fórmulas:\n",
        "\n",
        "    Para homens: (72.7*h) - 58\n",
        "    Para mulheres: (62.1*h) - 44.7 "
      ]
    },
    {
      "cell_type": "code",
      "metadata": {
        "id": "-wXT9cMUoIbW",
        "outputId": "69acbc46-65c9-4c03-b3ea-0d2fb28dc4c6",
        "colab": {
          "base_uri": "https://localhost:8080/",
          "height": 67
        }
      },
      "source": [
        "altura = input(\"Informe sua altura: \")\n",
        "homens = (72.7*float(altura)) - 58\n",
        "mulheres = (62.1*float(altura)) - 44.7\n",
        "\n",
        "print(\"peso ideal para homem: {} KG\".format(homens))\n",
        "print(\"peso ideal para mulher: {} KG\".format(mulheres))\n"
      ],
      "execution_count": 32,
      "outputs": [
        {
          "output_type": "stream",
          "text": [
            "Informe sua altura: 1.90\n",
            "peso ideal para homem: 80.13 KG\n",
            "peso ideal para mulher: 73.28999999999999 KG\n"
          ],
          "name": "stdout"
        }
      ]
    },
    {
      "cell_type": "markdown",
      "metadata": {
        "id": "ma_st1Zlo9RK"
      },
      "source": [
        "# Exercício 08\n",
        "Faça um Programa que peça a temperatura em graus Celsius, transforme e mostre em graus Fahrenheit. \n",
        "\n",
        "°F = °C × 1, 8 + 32"
      ]
    },
    {
      "cell_type": "code",
      "metadata": {
        "id": "fz1-5apJo-xV",
        "outputId": "6fb9fd4b-6f0a-48fb-89e8-36a321198bdc",
        "colab": {
          "base_uri": "https://localhost:8080/",
          "height": 50
        }
      },
      "source": [
        "celsius = input(\"Informe a temperatura em graus celsius: \")\n",
        "f = (float(celsius)*1.8)+32\n",
        "print(\"{}°F\".format(f))"
      ],
      "execution_count": 33,
      "outputs": [
        {
          "output_type": "stream",
          "text": [
            "Informe a temperatura em graus celsius: 0\n",
            "32.0°F\n"
          ],
          "name": "stdout"
        }
      ]
    }
  ]
}